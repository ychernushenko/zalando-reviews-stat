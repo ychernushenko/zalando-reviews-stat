{
 "cells": [
  {
   "cell_type": "code",
   "execution_count": 14,
   "metadata": {
    "collapsed": false
   },
   "outputs": [],
   "source": [
    "%%time\n",
    "# Read reviews from file\n",
    "import csv\n",
    "\n",
    "with open('datasets/reviews.txt', newline='') as csvfile:\n",
    "    all_reviews = csv.DictReader(csvfile, delimiter=',', quotechar='\"')\n",
    "    reviews = []\n",
    "    for review in all_reviews:\n",
    "        if review['LanguageCode'] == 'de':\n",
    "            reviews.append(review['Title'] + \" \" + review['Text'])"
   ]
  },
  {
   "cell_type": "code",
   "execution_count": 15,
   "metadata": {
    "collapsed": false
   },
   "outputs": [],
   "source": [
    "%%time\n",
    "# Delete too small or too big comments\n",
    "reviews = [item for item in reviews if len(item) > 4 and len(item) < 1000]\n",
    "\n",
    "# Delete comments with links (probably spam)\n",
    "reviews = [item for item in reviews if item.find(\"href=\") < 0]\n",
    "\n",
    "# Delete special characters (this probably could be done better)\n",
    "import re\n",
    "reviews = [re.sub('[\\r\\n\\.,!?()\":;\\-+=\\/]', ' ', item) for item in reviews]"
   ]
  },
  {
   "cell_type": "code",
   "execution_count": 16,
   "metadata": {
    "collapsed": false
   },
   "outputs": [],
   "source": [
    "%%time\n",
    "from nltk.tokenize import RegexpTokenizer\n",
    "tokenizer = RegexpTokenizer(r'\\w+')\n",
    "\n",
    "from nltk.stem.snowball import GermanStemmer\n",
    "g_stemmer = GermanStemmer()\n",
    "\n",
    "from stop_words import get_stop_words\n",
    "\n",
    "de_stop = get_stop_words('de')\n",
    "\n",
    "final_reviews = []\n",
    "for review in reviews:\n",
    "    # Tokenize by words\n",
    "    raw = review.lower()\n",
    "    review = tokenizer.tokenize(raw)\n",
    "    \n",
    "    # Stem tokens\n",
    "    review = ([g_stemmer.stem(i) for i in review])\n",
    "    \n",
    "    # Delete german stop words (maybe it should be more specific for fashion)\n",
    "    review = ([i for i in review if i not in de_stop])\n",
    "    \n",
    "    final_reviews.append(review)"
   ]
  },
  {
   "cell_type": "code",
   "execution_count": null,
   "metadata": {
    "collapsed": true
   },
   "outputs": [],
   "source": [
    "%%time\n",
    "from gensim import corpora, models\n",
    "import gensim\n",
    "\n",
    "dictionary = corpora.Dictionary(final_reviews)\n",
    "corpus = [dictionary.doc2bow(review) for review in final_reviews]\n",
    "ldamodel = gensim.models.ldamodel.LdaModel(corpus, num_topics=5, id2word = dictionary, passes=20)\n",
    "print(ldamodel.print_topics(num_topics=5, num_words=5))"
   ]
  },
  {
   "cell_type": "code",
   "execution_count": null,
   "metadata": {
    "collapsed": true
   },
   "outputs": [],
   "source": []
  }
 ],
 "metadata": {
  "kernelspec": {
   "display_name": "Python 3",
   "language": "python",
   "name": "python3"
  },
  "language_info": {
   "codemirror_mode": {
    "name": "ipython",
    "version": 3
   },
   "file_extension": ".py",
   "mimetype": "text/x-python",
   "name": "python",
   "nbconvert_exporter": "python",
   "pygments_lexer": "ipython3",
   "version": "3.4.3"
  }
 },
 "nbformat": 4,
 "nbformat_minor": 0
}
