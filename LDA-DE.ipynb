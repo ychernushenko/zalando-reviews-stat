{
 "cells": [
  {
   "cell_type": "code",
   "execution_count": 6,
   "metadata": {
    "collapsed": false
   },
   "outputs": [
    {
     "name": "stdout",
     "output_type": "stream",
     "text": [
      "CPU times: user 17.9 s, sys: 810 ms, total: 18.8 s\n",
      "Wall time: 24.7 s\n"
     ]
    }
   ],
   "source": [
    "%%time\n",
    "# Read reviews from file\n",
    "import unicodecsv\n",
    "\n",
    "with open('datasets/zalando-reviews-FB-release.csv') as csvfile:\n",
    "    all_reviews = unicodecsv.DictReader(csvfile, delimiter=',', quotechar='\"')\n",
    "    reviews = []\n",
    "    for review in all_reviews:\n",
    "        if review['LanguageCode'] == 'de':\n",
    "            reviews.append(review['Title'] + \" \" + review['Text'])"
   ]
  },
  {
   "cell_type": "code",
   "execution_count": 7,
   "metadata": {
    "collapsed": false
   },
   "outputs": [
    {
     "data": {
      "text/plain": [
       "1035254"
      ]
     },
     "execution_count": 7,
     "metadata": {},
     "output_type": "execute_result"
    }
   ],
   "source": [
    "len(reviews)"
   ]
  },
  {
   "cell_type": "code",
   "execution_count": null,
   "metadata": {
    "collapsed": false
   },
   "outputs": [],
   "source": [
    "%%time\n",
    "# Delete too small or too big comments\n",
    "reviews = [item for item in reviews if len(item) > 4 and len(item) < 1000]\n",
    "\n",
    "# Delete comments with links (probably spam)\n",
    "reviews = [item for item in reviews if item.find(\"href=\") < 0]\n",
    "\n",
    "# Delete special characters (this probably could be done better)\n",
    "import re\n",
    "reviews = [re.sub('[\\r\\n\\.,!?()\":;\\-+=\\/]', ' ', item) for item in reviews]"
   ]
  },
  {
   "cell_type": "code",
   "execution_count": 5,
   "metadata": {
    "collapsed": false
   },
   "outputs": [
    {
     "name": "stdout",
     "output_type": "stream",
     "text": [
      "CPU times: user 3min 17s, sys: 1.2 s, total: 3min 18s\n",
      "Wall time: 3min 23s\n"
     ]
    }
   ],
   "source": [
    "%%time\n",
    "from nltk.tokenize import RegexpTokenizer\n",
    "tokenizer = RegexpTokenizer(r'\\w+')\n",
    "\n",
    "from nltk.stem.snowball import GermanStemmer\n",
    "g_stemmer = GermanStemmer()\n",
    "\n",
    "from stop_words import get_stop_words\n",
    "\n",
    "de_stop = get_stop_words('de')\n",
    "\n",
    "final_reviews = []\n",
    "for review in reviews:\n",
    "    # Tokenize by words\n",
    "    raw = review.lower()\n",
    "    review = tokenizer.tokenize(raw)\n",
    "    \n",
    "    # Stem tokens\n",
    "    review = ([g_stemmer.stem(i) for i in review])\n",
    "    \n",
    "    # Delete german stop words (maybe it should be more specific for fashion)\n",
    "    review = ([i for i in review if i not in de_stop])\n",
    "    \n",
    "    final_reviews.append(review)"
   ]
  },
  {
   "cell_type": "code",
   "execution_count": 4,
   "metadata": {
    "collapsed": false
   },
   "outputs": [
    {
     "data": {
      "text/plain": [
       "210489"
      ]
     },
     "execution_count": 4,
     "metadata": {},
     "output_type": "execute_result"
    }
   ],
   "source": [
    "%%time\n",
    "from gensim import corpora, models\n",
    "import gensim\n",
    "\n",
    "dictionary = corpora.Dictionary(final_reviews)\n",
    "corpus = [dictionary.doc2bow(review) for review in final_reviews]\n",
    "ldamodel = gensim.models.ldamodel.LdaModel(corpus, num_topics=20, id2word = dictionary, passes=20)"
   ]
  },
  {
   "cell_type": "code",
   "execution_count": 19,
   "metadata": {
    "collapsed": false
   },
   "outputs": [
    {
     "name": "stdout",
     "output_type": "stream",
     "text": [
      "[(0, '0.088*\"gross\" + 0.043*\"klein\" + 0.042*\"leid\" + 0.032*\"schon\" + 0.032*\"fallt\"'), (1, '0.043*\"jack\" + 0.040*\"wied\" + 0.040*\"gut\" + 0.037*\"all\" + 0.036*\"sup\"'), (2, '0.069*\"schuh\" + 0.032*\"fur\" + 0.023*\"schon\" + 0.017*\"fuss\" + 0.015*\"gut\"'), (3, '0.072*\"gut\" + 0.070*\"sup\" + 0.053*\"toll\" + 0.049*\"schon\" + 0.029*\"passt\"'), (4, '0.041*\"schon\" + 0.029*\"kleid\" + 0.026*\"farb\" + 0.023*\"fur\" + 0.020*\"schnitt\"')]\n",
      "CPU times: user 1h 8min 29s, sys: 1.86 s, total: 1h 8min 31s\n",
      "Wall time: 1h 35min 40s\n"
     ]
    }
   ],
   "source": [
    "topics = ldamodel.print_topics(num_topics=20, num_words=5)\n",
    "\n",
    "for t in topics:\n",
    "    print(t)"
   ]
  },
  {
   "cell_type": "code",
   "execution_count": null,
   "metadata": {
    "collapsed": true
   },
   "outputs": [],
   "source": [
    "topics = ldamodel.print_topics(num_topics=20, num_words=5)\n",
    "\n",
    "for t in topics:\n",
    "    print(t)"
   ]
  }
 ],
 "metadata": {
  "kernelspec": {
   "display_name": "Python 2",
   "language": "python",
   "name": "python2"
  },
  "language_info": {
   "codemirror_mode": {
    "name": "ipython",
    "version": 2
   },
   "file_extension": ".py",
   "mimetype": "text/x-python",
   "name": "python",
   "nbconvert_exporter": "python",
   "pygments_lexer": "ipython2",
   "version": "2.7.6"
  }
 },
 "nbformat": 4,
 "nbformat_minor": 0
}
